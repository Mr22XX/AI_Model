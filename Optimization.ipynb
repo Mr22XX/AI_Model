{
  "nbformat": 4,
  "nbformat_minor": 0,
  "metadata": {
    "colab": {
      "provenance": [],
      "authorship_tag": "ABX9TyPSxTZsScUpTeNTK/DSxru0",
      "include_colab_link": true
    },
    "kernelspec": {
      "name": "python3",
      "display_name": "Python 3"
    },
    "language_info": {
      "name": "python"
    }
  },
  "cells": [
    {
      "cell_type": "markdown",
      "metadata": {
        "id": "view-in-github",
        "colab_type": "text"
      },
      "source": [
        "<a href=\"https://colab.research.google.com/github/Mr22XX/AI_Model/blob/main/Optimization.ipynb\" target=\"_parent\"><img src=\"https://colab.research.google.com/assets/colab-badge.svg\" alt=\"Open In Colab\"/></a>"
      ]
    },
    {
      "cell_type": "code",
      "execution_count": 1,
      "metadata": {
        "colab": {
          "base_uri": "https://localhost:8080/"
        },
        "id": "xE6LAlnt5q6K",
        "outputId": "32e3f617-1cc7-4fff-8c36-df84f5c6d43d"
      },
      "outputs": [
        {
          "output_type": "stream",
          "name": "stdout",
          "text": [
            "Rute terbaik: [1, 0, 2, 3]\n",
            "Jarak total: 80\n"
          ]
        }
      ],
      "source": [
        "import numpy as np\n",
        "import random\n",
        "\n",
        "# Jarak antar lokasi (matriks jarak)\n",
        "distance_matrix = np.array([\n",
        "    [0, 10, 15, 20],\n",
        "    [10, 0, 35, 25],\n",
        "    [15, 35, 0, 30],\n",
        "    [20, 25, 30, 0]\n",
        "])\n",
        "\n",
        "# Inisialisasi populasi\n",
        "def create_population(size, num_locations):\n",
        "    return [random.sample(range(num_locations), num_locations) for _ in range(size)]\n",
        "\n",
        "# Hitung jarak total dari rute\n",
        "def calculate_route_distance(route, distance_matrix):\n",
        "    distance = 0\n",
        "    for i in range(len(route) - 1):\n",
        "        distance += distance_matrix[route[i]][route[i+1]]\n",
        "    distance += distance_matrix[route[-1]][route[0]]  # Kembali ke titik awal\n",
        "    return distance\n",
        "\n",
        "# Seleksi berdasarkan fitness\n",
        "def select_parents(population, distance_matrix):\n",
        "    sorted_population = sorted(population, key=lambda route: calculate_route_distance(route, distance_matrix))\n",
        "    return sorted_population[:2]  # Ambil 2 rute terbaik\n",
        "\n",
        "# Crossover (persilangan)\n",
        "def crossover(parent1, parent2):\n",
        "    size = len(parent1)\n",
        "    point = random.randint(1, size - 1)\n",
        "    child = parent1[:point] + [gene for gene in parent2 if gene not in parent1[:point]]\n",
        "    return child\n",
        "\n",
        "# Mutasi (tukar dua kota)\n",
        "def mutate(route):\n",
        "    i, j = random.sample(range(len(route)), 2)\n",
        "    route[i], route[j] = route[j], route[i]\n",
        "    return route\n",
        "\n",
        "# Algoritma Genetika untuk Optimasi Rute\n",
        "def genetic_algorithm(distance_matrix, generations=100):\n",
        "    num_locations = len(distance_matrix)\n",
        "    population = create_population(10, num_locations)\n",
        "\n",
        "    for _ in range(generations):\n",
        "        parents = select_parents(population, distance_matrix)\n",
        "        children = [crossover(parents[0], parents[1]) for _ in range(8)]\n",
        "        population = parents + [mutate(child) for child in children]\n",
        "\n",
        "    best_route = select_parents(population, distance_matrix)[0]\n",
        "    best_distance = calculate_route_distance(best_route, distance_matrix)\n",
        "    return best_route, best_distance\n",
        "\n",
        "# Menjalankan algoritma\n",
        "best_route, best_distance = genetic_algorithm(distance_matrix)\n",
        "print(\"Rute terbaik:\", best_route)\n",
        "print(\"Jarak total:\", best_distance)\n"
      ]
    }
  ]
}