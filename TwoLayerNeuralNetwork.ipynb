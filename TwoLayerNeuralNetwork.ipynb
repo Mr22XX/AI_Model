{
  "nbformat": 4,
  "nbformat_minor": 0,
  "metadata": {
    "colab": {
      "provenance": [],
      "authorship_tag": "ABX9TyNAczW04juedefBBRiarxnZ",
      "include_colab_link": true
    },
    "kernelspec": {
      "name": "python3",
      "display_name": "Python 3"
    },
    "language_info": {
      "name": "python"
    }
  },
  "cells": [
    {
      "cell_type": "markdown",
      "metadata": {
        "id": "view-in-github",
        "colab_type": "text"
      },
      "source": [
        "<a href=\"https://colab.research.google.com/github/Mr22XX/AI_Model/blob/main/TwoLayerNeuralNetwork.ipynb\" target=\"_parent\"><img src=\"https://colab.research.google.com/assets/colab-badge.svg\" alt=\"Open In Colab\"/></a>"
      ]
    },
    {
      "cell_type": "code",
      "execution_count": 4,
      "metadata": {
        "colab": {
          "base_uri": "https://localhost:8080/"
        },
        "id": "Hp8b0SPe3_nO",
        "outputId": "364de63f-deed-47fb-8dc9-212cb63e8656"
      },
      "outputs": [
        {
          "output_type": "stream",
          "name": "stdout",
          "text": [
            "Epoch [500/2000], Loss: 0.0036\n",
            "Epoch [1000/2000], Loss: 0.0009\n",
            "Epoch [1500/2000], Loss: 0.0004\n",
            "Epoch [2000/2000], Loss: 0.0002\n",
            "\n",
            "Prediksi Probabilitas Keterlambatan:\n",
            " [[5.42093243e-04]\n",
            " [9.99921679e-01]\n",
            " [1.02495274e-08]\n",
            " [9.99999881e-01]\n",
            " [3.71941471e-11]\n",
            " [1.00000000e+00]\n",
            " [9.99203503e-01]]\n",
            "\n",
            "Prediksi Label (0: Tepat Waktu, 1: Terlambat):\n",
            " [[0]\n",
            " [1]\n",
            " [0]\n",
            " [1]\n",
            " [0]\n",
            " [1]\n",
            " [1]]\n",
            "\n",
            "Prediksi Probabilitas untuk Data Baru:\n",
            " [[0.00385731]\n",
            " [0.9999999 ]]\n",
            "\n",
            "Prediksi Label untuk Data Baru:\n",
            " [[0]\n",
            " [1]]\n"
          ]
        }
      ],
      "source": [
        "import torch\n",
        "import torch.nn as nn\n",
        "import torch.optim as optim\n",
        "from sklearn.preprocessing import StandardScaler\n",
        "\n",
        "# Dataset: [Jam Bangun, Jarak ke Kantor] → [Terlambat (1) / Tidak (0)]\n",
        "X_data = [[6.5, 2], [7.0, 5], [6.0, 1], [7.5, 8], [5.5, 1], [8.0, 10], [6.8, 4]]\n",
        "y_data = [[0], [1], [0], [1], [0], [1], [1]]\n",
        "\n",
        "# Normalisasi data agar lebih stabil\n",
        "scaler = StandardScaler()\n",
        "X = torch.tensor(scaler.fit_transform(X_data), dtype=torch.float32)\n",
        "y = torch.tensor(y_data, dtype=torch.float32)\n",
        "\n",
        "# Neural Network dengan 2 Layer\n",
        "class OfficeLateNN(nn.Module):\n",
        "    def __init__(self):\n",
        "        super(OfficeLateNN, self).__init__()\n",
        "        self.hidden = nn.Linear(2, 5)  # 2 input -> 5 hidden neurons\n",
        "        self.output = nn.Linear(5, 1)  # 5 hidden -> 1 output neuron\n",
        "        self.activation = nn.ReLU()    # ReLU untuk hidden layer\n",
        "        self.sigmoid = nn.Sigmoid()    # Sigmoid untuk output probabilitas\n",
        "\n",
        "    def forward(self, x):\n",
        "        x = self.activation(self.hidden(x))\n",
        "        x = self.sigmoid(self.output(x))\n",
        "        return x\n",
        "\n",
        "# Inisialisasi model\n",
        "model = OfficeLateNN()\n",
        "criterion = nn.BCELoss()  # Binary Cross Entropy untuk klasifikasi\n",
        "optimizer = optim.Adam(model.parameters(), lr=0.01)\n",
        "\n",
        "# Training model\n",
        "num_epochs = 2000\n",
        "for epoch in range(num_epochs):\n",
        "    optimizer.zero_grad()\n",
        "    outputs = model(X)\n",
        "    loss = criterion(outputs, y)\n",
        "    loss.backward()\n",
        "    optimizer.step()\n",
        "\n",
        "    if (epoch+1) % 500 == 0:\n",
        "        print(f\"Epoch [{epoch+1}/{num_epochs}], Loss: {loss.item():.4f}\")\n",
        "\n",
        "# Evaluasi model\n",
        "with torch.no_grad():\n",
        "    prediksi = model(X)\n",
        "    prediksi_label = (prediksi.detach().numpy() > 0.5).astype(int)  # Perbaikan disini\n",
        "    print(\"\\nPrediksi Probabilitas Keterlambatan:\\n\", prediksi.detach().numpy())  # Perbaikan disini\n",
        "    print(\"\\nPrediksi Label (0: Tepat Waktu, 1: Terlambat):\\n\", prediksi_label)\n",
        "\n",
        "# Contoh Prediksi Baru\n",
        "data_baru = torch.tensor(scaler.transform([[6.3, 3], [7.8, 7]]), dtype=torch.float32)\n",
        "prediksi_baru = model(data_baru)\n",
        "\n",
        "# Perbaikan disini\n",
        "print(\"\\nPrediksi Probabilitas untuk Data Baru:\\n\", prediksi_baru.detach().numpy())\n",
        "print(\"\\nPrediksi Label untuk Data Baru:\\n\", (prediksi_baru.detach().numpy() > 0.5).astype(int))\n",
        "\n"
      ]
    }
  ]
}