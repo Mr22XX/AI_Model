{
  "nbformat": 4,
  "nbformat_minor": 0,
  "metadata": {
    "colab": {
      "provenance": [],
      "authorship_tag": "ABX9TyMTmIm3GjnoS+7TZAsnDlsn",
      "include_colab_link": true
    },
    "kernelspec": {
      "name": "python3",
      "display_name": "Python 3"
    },
    "language_info": {
      "name": "python"
    }
  },
  "cells": [
    {
      "cell_type": "markdown",
      "metadata": {
        "id": "view-in-github",
        "colab_type": "text"
      },
      "source": [
        "<a href=\"https://colab.research.google.com/github/Mr22XX/AI_Model/blob/main/AiPrivacy.ipynb\" target=\"_parent\"><img src=\"https://colab.research.google.com/assets/colab-badge.svg\" alt=\"Open In Colab\"/></a>"
      ]
    },
    {
      "cell_type": "code",
      "execution_count": 1,
      "metadata": {
        "colab": {
          "base_uri": "https://localhost:8080/"
        },
        "id": "Un0vG3uV6FGc",
        "outputId": "3563f789-695e-4199-eef3-affe8c32be8d"
      },
      "outputs": [
        {
          "output_type": "stream",
          "name": "stdout",
          "text": [
            "Epoch [100/500], Loss: 1.0000\n",
            "Epoch [200/500], Loss: 1.0000\n",
            "Epoch [300/500], Loss: 1.0000\n",
            "Epoch [400/500], Loss: 1.0000\n",
            "Epoch [500/500], Loss: 1.0000\n",
            "\n",
            "Transaksi Mencurigakan pada Indeks: [9]\n"
          ]
        }
      ],
      "source": [
        "import numpy as np\n",
        "import torch\n",
        "import torch.nn as nn\n",
        "import torch.optim as optim\n",
        "from sklearn.preprocessing import StandardScaler\n",
        "\n",
        "# Contoh Data Transaksi: [Jumlah Transaksi, Waktu dalam Sehari (0-24)]\n",
        "transactions = np.array([\n",
        "    [500, 14], [600, 16], [550, 12], [3000, 3],  # Data Normal\n",
        "    [450, 10], [700, 18], [680, 20], [50, 2],   # Data Normal\n",
        "    [10000, 23], [12000, 1]  # Transaksi mencurigakan\n",
        "])\n",
        "\n",
        "# Normalisasi data\n",
        "scaler = StandardScaler()\n",
        "X = torch.tensor(scaler.fit_transform(transactions), dtype=torch.float32)\n",
        "\n",
        "# Model Autoencoder untuk Deteksi Anomali\n",
        "class AnomalyDetector(nn.Module):\n",
        "    def __init__(self):\n",
        "        super(AnomalyDetector, self).__init__()\n",
        "        self.encoder = nn.Sequential(\n",
        "            nn.Linear(2, 4),\n",
        "            nn.ReLU(),\n",
        "            nn.Linear(4, 2),\n",
        "            nn.ReLU()\n",
        "        )\n",
        "        self.decoder = nn.Sequential(\n",
        "            nn.Linear(2, 4),\n",
        "            nn.ReLU(),\n",
        "            nn.Linear(4, 2)\n",
        "        )\n",
        "\n",
        "    def forward(self, x):\n",
        "        encoded = self.encoder(x)\n",
        "        decoded = self.decoder(encoded)\n",
        "        return decoded\n",
        "\n",
        "# Inisialisasi model\n",
        "model = AnomalyDetector()\n",
        "criterion = nn.MSELoss()\n",
        "optimizer = optim.Adam(model.parameters(), lr=0.01)\n",
        "\n",
        "# Training Autoencoder\n",
        "num_epochs = 500\n",
        "for epoch in range(num_epochs):\n",
        "    optimizer.zero_grad()\n",
        "    outputs = model(X)\n",
        "    loss = criterion(outputs, X)  # Loss berdasarkan rekonstruksi error\n",
        "    loss.backward()\n",
        "    optimizer.step()\n",
        "\n",
        "    if (epoch+1) % 100 == 0:\n",
        "        print(f\"Epoch [{epoch+1}/{num_epochs}], Loss: {loss.item():.4f}\")\n",
        "\n",
        "# Deteksi Anomali\n",
        "with torch.no_grad():\n",
        "    reconstructed = model(X)\n",
        "    loss_per_point = torch.mean((X - reconstructed) ** 2, dim=1).numpy()\n",
        "\n",
        "# Tentukan ambang batas anomali\n",
        "threshold = np.percentile(loss_per_point, 95)\n",
        "anomalies = np.where(loss_per_point > threshold)[0]\n",
        "\n",
        "print(\"\\nTransaksi Mencurigakan pada Indeks:\", anomalies)\n"
      ]
    }
  ]
}